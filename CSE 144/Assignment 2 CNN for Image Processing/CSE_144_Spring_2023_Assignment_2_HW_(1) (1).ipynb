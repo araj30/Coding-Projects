{
  "cells": [
    {
      "cell_type": "markdown",
      "metadata": {
        "id": "NegAkmLZKITL"
      },
      "source": [
        "# CSE 144 Spring 2023 Assignment 2\n",
        "For this assignment, your task is to train a several convolutional neural networks to classify CIFAR-10 images. CIFAR-10 is a 10-class image classification dataset with 50,000 training images and 10,000 test images. You can find more info in https://www.cs.toronto.edu/~kriz/cifar.html. You should define a simple CNN with restrictions to classify this dataset. "
      ]
    },
    {
      "cell_type": "code",
      "execution_count": 4,
      "metadata": {
        "colab": {
          "base_uri": "https://localhost:8080/"
        },
        "id": "4z4XngwQUF6y",
        "outputId": "4d1d7304-e57d-4813-8b70-80039b01968f"
      },
      "outputs": [
        {
          "output_type": "stream",
          "name": "stdout",
          "text": [
            "Mounted at /content/drive/\n"
          ]
        }
      ],
      "source": [
        "from google.colab import drive\n",
        "drive.mount('/content/drive/')"
      ]
    },
    {
      "cell_type": "code",
      "execution_count": 2,
      "metadata": {
        "id": "UQ7vc7_hKITR"
      },
      "outputs": [],
      "source": [
        "import matplotlib.pyplot as plt\n",
        "import pandas as pd\n",
        "%matplotlib inline\n",
        "%config InlineBackend.figure_format=\"retina\"\n",
        "import numpy as np\n",
        "import random\n",
        "import torch\n",
        "from torch import nn, optim\n",
        "import math\n",
        "from IPython import display\n",
        "import torchvision.datasets as datasets\n",
        "import torchvision.transforms as transforms\n",
        "from torch.utils.data import TensorDataset\n",
        "import pdb"
      ]
    },
    {
      "cell_type": "markdown",
      "metadata": {
        "id": "_9paVLUhMk1Y"
      },
      "source": [
        "#### Step-0: Setting a Seed for Random Number Generators in Python and PyTorch"
      ]
    },
    {
      "cell_type": "code",
      "execution_count": 5,
      "metadata": {
        "colab": {
          "base_uri": "https://localhost:8080/"
        },
        "id": "Hz8XTp_zMkLu",
        "outputId": "9800fe46-8d22-4093-9036-592dea70d5ea"
      },
      "outputs": [
        {
          "output_type": "execute_result",
          "data": {
            "text/plain": [
              "<torch._C.Generator at 0x7f811cc89d70>"
            ]
          },
          "metadata": {},
          "execution_count": 5
        }
      ],
      "source": [
        "seed = 42\n",
        "random.seed(seed)\n",
        "torch.manual_seed(seed)"
      ]
    },
    {
      "cell_type": "markdown",
      "metadata": {
        "id": "ZVLfTcsJKITR"
      },
      "source": [
        "#### Step-1: Import dataset\n",
        "Load the CIFAR-10 dataset using `datasets.CIFAR10` and use 10% of training images as validation data. Notice that PyTorch would normalize the range of pixel values to 0-1 automatically. (5 scores)"
      ]
    },
    {
      "cell_type": "code",
      "execution_count": 6,
      "metadata": {
        "colab": {
          "base_uri": "https://localhost:8080/"
        },
        "id": "K6PznhssKITR",
        "outputId": "cb9b5923-be36-451c-ae22-a1596272c405"
      },
      "outputs": [
        {
          "output_type": "stream",
          "name": "stdout",
          "text": [
            "Files already downloaded and verified\n",
            "Files already downloaded and verified\n"
          ]
        }
      ],
      "source": [
        "# ###### Your codes start here.######\n",
        "\n",
        "# define the transformation to normalize pixel values to range 0-1\n",
        "transform = transforms.ToTensor()\n",
        "\n",
        "# load the cifar-10 training datasest\n",
        "train_dataset = datasets.CIFAR10(root='/content/drive/MyDrive/cifar-2/', train=True, download=True, transform=transform)\n",
        "\n",
        "# load the cifar-10 test dataset\n",
        "test_dataset = datasets.CIFAR10(root='/content/drive/MyDrive/cifar-2/', train=False, download=True, transform=transform)\n",
        "\n",
        "# calculate the number of validation samples (%10)\n",
        "num_train = len(train_dataset)\n",
        "num_val = int(0.1*num_train)\n",
        "\n",
        "# split the training datasest into training and validation\n",
        "train_dataset, val_dataset = torch.utils.data.random_split(train_dataset, [num_train - num_val, num_val])\n",
        "\n",
        "# ###### Your codes end here.######\n"
      ]
    },
    {
      "cell_type": "markdown",
      "metadata": {
        "id": "HDP7KP2NfLup"
      },
      "source": [
        "#### Step-2: Building Data Loaders\n",
        "\n",
        "In this step, you will use PyTorch's DataLoader function to create data loaders for your training, validation, and test datasets. The DataLoader function allows you to load data in batches, which can help improve training efficiency. You will set the batch size to 128, which means that the model will be trained on 128 samples at a time.\n",
        "\n",
        "For the train_dataset, you will set the shuffle parameter to True, which randomizes the order in which the data is loaded, helping the model learn from a more diverse set of examples. On the other hand, for the val_dataset and test_dataset, you will set the shuffle parameter to False. (5 scores)"
      ]
    },
    {
      "cell_type": "code",
      "execution_count": 7,
      "metadata": {
        "id": "7VBb_YqNfFvy"
      },
      "outputs": [],
      "source": [
        "###### Your codes start here.######\n",
        "\n",
        "# set batch size\n",
        "#batch_size =128\n",
        "\n",
        "# create data loaders for training, validation, and training sets\n",
        "trainloader = torch.utils.data.DataLoader(train_dataset, batch_size=128, shuffle=True)\n",
        "valloader = torch.utils.data.DataLoader(val_dataset, batch_size=128, shuffle=False)\n",
        "testloader = torch.utils.data.DataLoader(test_dataset, batch_size=128, shuffle=False)\n",
        "\n",
        "###### Your codes end here.######\n",
        "\n",
        "# assert the size of the train dataset\n",
        "assert len(train_dataset) == 45000\n",
        "assert train_dataset[0][0].shape == torch.Size([3, 32, 32])\n",
        "\n",
        "# assert the size of the validation dataset\n",
        "assert len(val_dataset) == 5000\n",
        "assert val_dataset[0][0].shape == torch.Size([3, 32, 32])\n",
        "\n",
        "# assert the size of the test dataset\n",
        "assert len(test_dataset) == 10000\n",
        "assert test_dataset[0][0].shape == torch.Size([3, 32, 32])"
      ]
    },
    {
      "cell_type": "markdown",
      "metadata": {
        "id": "ek_nIbhhkMry"
      },
      "source": [
        "**Visulize one image from CIFAR**"
      ]
    },
    {
      "cell_type": "code",
      "execution_count": 8,
      "metadata": {
        "colab": {
          "base_uri": "https://localhost:8080/",
          "height": 406
        },
        "id": "L3fbeVE1_I16",
        "outputId": "c68214fc-5dbc-416c-c22d-4a99c17aa3bd"
      },
      "outputs": [
        {
          "output_type": "display_data",
          "data": {
            "text/plain": [
              "<Figure size 640x480 with 1 Axes>"
            ],
            "image/png": "[encoded data removed]"
          },
          "metadata": {
            "image/png": {
              "width": 389,
              "height": 389
            }
          }
        }
      ],
      "source": [
        "image, _ = trainloader.dataset.__getitem__(0)\n",
        "image = image.permute(1,2,0)\n",
        "plt.imshow(image, cmap=plt.cm.binary)\n",
        "plt.axis('off');"
      ]
    },
    {
      "cell_type": "markdown",
      "metadata": {
        "id": "eFpoh2XBKITT"
      },
      "source": [
        "#### Step-3: Build a neural network.\n",
        "Build your convolutional neural networks by adding some layers. You should use 2 convolution layers and ReLU as the default activation function. The kernel size of both layers should be 3x3. Use 32 and 64 as the number of filters for the first and the second convolutional layers, respectively. After that, flatten your input and add two more dense layers. There should be 1024 units in the first dense with ReLU activation, and use 10 hidden units in the second dense layer with softmax activation. The requirements are same for the following questions. (10 scores)"
      ]
    },
    {
      "cell_type": "code",
      "execution_count": 9,
      "metadata": {
        "id": "hAajjlzRK3LO"
      },
      "outputs": [],
      "source": [
        "device = torch.device(\"cuda:0\" if torch.cuda.is_available() else \"cpu\")"
      ]
    },
    {
      "cell_type": "code",
      "execution_count": 17,
      "metadata": {
        "id": "Y-7IE80mKITT"
      },
      "outputs": [],
      "source": [
        "###### Your code starts here. ######\n",
        "\n",
        "class Model_3(nn.Module):\n",
        "  def __init__(self):\n",
        "    super(Model_3, self).__init__()\n",
        "\n",
        "    # first layer\n",
        "    self.c1 = nn.Conv2d(3, 32, kernel_size = 3, padding = 1)\n",
        "\n",
        "    #self.relu = nn.ReLU()\n",
        "\n",
        "    # second layer\n",
        "    self.c2 = nn.Conv2d(32, 64, kernel_size = 3, padding = 1)\n",
        "    \n",
        "    # fully connected layers\n",
        "\n",
        "    self.linear1 = nn.Linear(64*32*32, 1024)\n",
        "    #self.fc1_relu = nn.ReLU()\n",
        "\n",
        "    self.linear2 = nn.Linear(1024, 10)\n",
        "    self.flat = nn.Flatten()\n",
        "    self.relu = nn.ReLU()\n",
        "    self.softmax = nn.Softmax(dim=1)\n",
        "\n",
        "  def forward(self, x):\n",
        "      x = self.relu(self.c1(x))\n",
        "      x = self.relu(self.c2(x))\n",
        "      x = self.flat(x)\n",
        "      #x = self.fc1_relu(self.fc1(x))\n",
        "      x = self.relu(self.linear1(x))\n",
        "      x = self.linear2(x)\n",
        "      x = self.softmax(x)\n",
        "      return x\n",
        "\n",
        "###### Your codes end here.######"
      ]
    },
    {
      "cell_type": "markdown",
      "metadata": {
        "id": "dt27nBzJKITU"
      },
      "source": [
        "#### Step-4: Train the model\n",
        "Compile model here and set your initial hyperparameters. Use SGD as the optimizer with initial learning rate 0.01. You could choose 'CrossEntropyLoss' as your loss function, and the metrics should be accuracy. After that, train your model for 10 epochs. The requirements are same for the following questions. (15 scores)"
      ]
    },
    {
      "cell_type": "code",
      "execution_count": 18,
      "metadata": {
        "id": "egGS7HGEKITV"
      },
      "outputs": [],
      "source": [
        "def evaluate_model(model, dataloader, is_test=False):\n",
        "  #Evaluation\n",
        "\n",
        "  # Set model to evaluation mode\n",
        "  model.eval()\n",
        "\n",
        "  with torch.no_grad():\n",
        "    correct = 0\n",
        "    loss = 0\n",
        "\n",
        "    criterion = torch.nn.CrossEntropyLoss(reduction='none')\n",
        "\n",
        "    for data, target in dataloader:\n",
        "        data, target = data.to(device), target.to(device)\n",
        "        outputs = model(data)\n",
        "        \n",
        "        loss += torch.sum(criterion(outputs, target)).item()\n",
        "        \n",
        "        pred = outputs.data.max(1, keepdim=True)[1] # get the index of the max log-probability                                                                 \n",
        "        correct += pred.eq(target.data.view_as(pred)).cpu().sum().item()\n",
        "\n",
        "    loss /= len(dataloader.dataset)\n",
        "    accuracy = 100. * correct / len(dataloader.dataset)\n",
        "    print('\\n{} set: Average loss: {:.4f}, Accuracy: {}/{} ({:.0f}%)\\n'.format(\n",
        "        \"Test\" if is_test else \"Validation\",\n",
        "        loss, correct, len(dataloader.dataset),\n",
        "        accuracy))\n",
        "  # Set model back to training mode\n",
        "  model.train()\n",
        "\n",
        "###### Your code starts here. ######\n",
        "\n",
        "def train_model(model):\n",
        "  # define the loss function\n",
        "  loss_function = torch.nn.CrossEntropyLoss()\n",
        "  \n",
        "  # define optimizer\n",
        "  optimizer = torch.optim.SGD(model.parameters(), lr=learning_rate)\n",
        "  \n",
        "  # check if this is necessary\n",
        "  model.to(device)\n",
        "\n",
        "  for epoch in range(epochs):\n",
        "    model.train()\n",
        "    \n",
        "    for images, labels in trainloader:\n",
        "       images, labels = images.to(device), labels.to(device)\n",
        "       optimizer.zero_grad()\n",
        "\n",
        "       outputs = model(images)\n",
        "       loss = loss_function(outputs, labels)\n",
        "\n",
        "       loss.backward()\n",
        "       optimizer.step()\n",
        "\n",
        "    evaluate_model(model, valloader)      \n",
        "\n",
        "###### Your code end here. ######"
      ]
    },
    {
      "cell_type": "markdown",
      "metadata": {
        "id": "aTg6snZ4fu2U"
      },
      "source": [
        "**Set hyper-parameters**"
      ]
    },
    {
      "cell_type": "code",
      "execution_count": 19,
      "metadata": {
        "id": "BJdfqGOafyK0"
      },
      "outputs": [],
      "source": [
        "learning_rate = 0.01\n",
        "epochs = 10\n",
        "batch_size = 128"
      ]
    },
    {
      "cell_type": "code",
      "execution_count": 20,
      "metadata": {
        "id": "72FMIYO1nu-8",
        "colab": {
          "base_uri": "https://localhost:8080/"
        },
        "outputId": "4858d35c-0024-4f6f-be69-b4a23cfcae39"
      },
      "outputs": [
        {
          "output_type": "stream",
          "name": "stdout",
          "text": [
            "\n",
            "Validation set: Average loss: 2.2958, Accuracy: 486/5000 (10%)\n",
            "\n",
            "\n",
            "Validation set: Average loss: 2.2757, Accuracy: 695/5000 (14%)\n",
            "\n",
            "\n",
            "Validation set: Average loss: 2.2149, Accuracy: 1313/5000 (26%)\n",
            "\n",
            "\n",
            "Validation set: Average loss: 2.1785, Accuracy: 1425/5000 (28%)\n",
            "\n",
            "\n",
            "Validation set: Average loss: 2.1485, Accuracy: 1551/5000 (31%)\n",
            "\n",
            "\n",
            "Validation set: Average loss: 2.1248, Accuracy: 1686/5000 (34%)\n",
            "\n",
            "\n",
            "Validation set: Average loss: 2.1342, Accuracy: 1630/5000 (33%)\n",
            "\n",
            "\n",
            "Validation set: Average loss: 2.1225, Accuracy: 1676/5000 (34%)\n",
            "\n",
            "\n",
            "Validation set: Average loss: 2.1067, Accuracy: 1741/5000 (35%)\n",
            "\n",
            "\n",
            "Validation set: Average loss: 2.0995, Accuracy: 1778/5000 (36%)\n",
            "\n"
          ]
        }
      ],
      "source": [
        "model_step_3 = Model_3()\n",
        "model_step_3.to(device)\n",
        "  \n",
        "optimizer = torch.optim.SGD(model_step_3.parameters(), lr=learning_rate)\n",
        "train_model(model_step_3)"
      ]
    },
    {
      "cell_type": "code",
      "execution_count": 21,
      "metadata": {
        "id": "BTq0j4GpOvyU",
        "colab": {
          "base_uri": "https://localhost:8080/"
        },
        "outputId": "a80a63a5-ffd2-4321-e0a9-ec7f12116187"
      },
      "outputs": [
        {
          "output_type": "stream",
          "name": "stdout",
          "text": [
            "\n",
            "Test set: Average loss: 2.0954, Accuracy: 3635/10000 (36%)\n",
            "\n"
          ]
        }
      ],
      "source": [
        "# Evaluation\n",
        "evaluate_model(model_step_3, testloader, is_test=True)"
      ]
    },
    {
      "cell_type": "markdown",
      "metadata": {
        "id": "urGP_6ZJKITV"
      },
      "source": [
        "#### Step-5: Regularization\n",
        "Add one dropout layer with 0.5 drop rate between the two dense layer and apply a SGD with momentum 0.9. You can keep all other hyperparameters the same. (5 scores)"
      ]
    },
    {
      "cell_type": "code",
      "execution_count": 22,
      "metadata": {
        "id": "vlIUR4fgKITV",
        "colab": {
          "base_uri": "https://localhost:8080/"
        },
        "outputId": "aabdb44b-50de-4c53-e6b4-74b6733b97b9"
      },
      "outputs": [
        {
          "output_type": "stream",
          "name": "stdout",
          "text": [
            "\n",
            "Validation set: Average loss: 2.2969, Accuracy: 532/5000 (11%)\n",
            "\n",
            "\n",
            "Validation set: Average loss: 2.2742, Accuracy: 764/5000 (15%)\n",
            "\n",
            "\n",
            "Validation set: Average loss: 2.2110, Accuracy: 1298/5000 (26%)\n",
            "\n",
            "\n",
            "Validation set: Average loss: 2.1796, Accuracy: 1360/5000 (27%)\n",
            "\n",
            "\n",
            "Validation set: Average loss: 2.1454, Accuracy: 1569/5000 (31%)\n",
            "\n",
            "\n",
            "Validation set: Average loss: 2.1263, Accuracy: 1679/5000 (34%)\n",
            "\n",
            "\n",
            "Validation set: Average loss: 2.1172, Accuracy: 1682/5000 (34%)\n",
            "\n",
            "\n",
            "Validation set: Average loss: 2.1088, Accuracy: 1737/5000 (35%)\n",
            "\n",
            "\n",
            "Validation set: Average loss: 2.1031, Accuracy: 1773/5000 (35%)\n",
            "\n",
            "\n",
            "Validation set: Average loss: 2.0955, Accuracy: 1801/5000 (36%)\n",
            "\n"
          ]
        }
      ],
      "source": [
        "###### Your code starts here. ######\n",
        "\n",
        "class Model_5(nn.Module):\n",
        "  def __init__(self):\n",
        "    super(Model_5, self).__init__()\n",
        "\n",
        "    # first layer\n",
        "    self.c1 = nn.Conv2d(3, 32, kernel_size = 3, padding = 1)\n",
        "\n",
        "    #self.relu = nn.ReLU()\n",
        "\n",
        "    # second layer\n",
        "    self.c2 = nn.Conv2d(32, 64, kernel_size = 3, padding = 1)\n",
        "    \n",
        "    # fully connected layers\n",
        "\n",
        "    self.linear_1 = nn.Linear(64*32*32, 1024)\n",
        "\n",
        "    # drop out layer\n",
        "    self.drop = nn.Dropout(0.5)\n",
        "    #self.fc1_relu = nn.ReLU()\n",
        "\n",
        "    self.linear_2 = nn.Linear(1024, 10)\n",
        "    self.flat = nn.Flatten()\n",
        "    self.relu = nn.ReLU()\n",
        "    self.softmax = nn.Softmax(dim=1)\n",
        "\n",
        "  def forward(self, x):\n",
        "      x = self.relu(self.c1(x))\n",
        "      x = self.relu(self.c2(x))\n",
        "      x = self.flat(x)\n",
        "      #x = self.fc1_relu(self.fc1(x))\n",
        "      x = self.relu(self.linear_1(x))\n",
        "      x = self.drop(x)\n",
        "      x = self.linear_2(x)\n",
        "      x = self.softmax(x)\n",
        "      return x\n",
        "\n",
        "# keeping paramters the same\n",
        "learning_rate = 0.01\n",
        "epochs = 10\n",
        "\n",
        "# create instance of model\n",
        "model_step_5 = Model_5()\n",
        "\n",
        "model_step_5.to(device)\n",
        "  \n",
        "criterion = nn.CrossEntropyLoss()\n",
        "optimizer = torch.optim.SGD(model_step_5.parameters(), lr=learning_rate, momentum=0.9)\n",
        "\n",
        "train_model(model_step_5)\n",
        "\n",
        "###### Your codes end here.######"
      ]
    },
    {
      "cell_type": "code",
      "execution_count": 23,
      "metadata": {
        "id": "dcK68GU7NlrG",
        "colab": {
          "base_uri": "https://localhost:8080/"
        },
        "outputId": "09ea6e92-b75a-4377-d8c1-93e975a65cdc"
      },
      "outputs": [
        {
          "output_type": "stream",
          "name": "stdout",
          "text": [
            "\n",
            "Test set: Average loss: 2.0932, Accuracy: 3654/10000 (37%)\n",
            "\n"
          ]
        }
      ],
      "source": [
        "# Evaluation\n",
        "evaluate_model(model_step_5, testloader, is_test=True)"
      ]
    },
    {
      "cell_type": "markdown",
      "metadata": {
        "id": "cGn8p6_wKITV"
      },
      "source": [
        "#### Step-6: Deeper neural network\n",
        "\n",
        "Try to add two more convolution layers in your model (four in total). Use 128 as the number of filters for two extra convolution layers, and 3x3 as the kernel size. (5 scores)"
      ]
    },
    {
      "cell_type": "code",
      "execution_count": 24,
      "metadata": {
        "id": "R1JC-NoEKITW",
        "colab": {
          "base_uri": "https://localhost:8080/"
        },
        "outputId": "4588ceb6-0e30-4145-c511-3e796319eace"
      },
      "outputs": [
        {
          "output_type": "stream",
          "name": "stdout",
          "text": [
            "\n",
            "Validation set: Average loss: 2.3025, Accuracy: 550/5000 (11%)\n",
            "\n",
            "\n",
            "Validation set: Average loss: 2.3024, Accuracy: 570/5000 (11%)\n",
            "\n",
            "\n",
            "Validation set: Average loss: 2.3023, Accuracy: 487/5000 (10%)\n",
            "\n",
            "\n",
            "Validation set: Average loss: 2.3021, Accuracy: 487/5000 (10%)\n",
            "\n",
            "\n",
            "Validation set: Average loss: 2.3017, Accuracy: 488/5000 (10%)\n",
            "\n",
            "\n",
            "Validation set: Average loss: 2.3010, Accuracy: 488/5000 (10%)\n",
            "\n",
            "\n",
            "Validation set: Average loss: 2.2989, Accuracy: 488/5000 (10%)\n",
            "\n",
            "\n",
            "Validation set: Average loss: 2.2886, Accuracy: 484/5000 (10%)\n",
            "\n",
            "\n",
            "Validation set: Average loss: 2.2315, Accuracy: 1077/5000 (22%)\n",
            "\n",
            "\n",
            "Validation set: Average loss: 2.1572, Accuracy: 1533/5000 (31%)\n",
            "\n"
          ]
        }
      ],
      "source": [
        "###### Your code starts here. ######\n",
        "\n",
        "class Model_6(nn.Module):\n",
        "  def __init__(self):\n",
        "    super(Model_6, self).__init__()\n",
        "\n",
        "    # first layer\n",
        "    self.c1 = nn.Conv2d(3, 32, kernel_size = 3, padding = 1)\n",
        "\n",
        "    #self.relu = nn.ReLU()\n",
        "\n",
        "    # second layer\n",
        "    self.c2 = nn.Conv2d(32, 64, kernel_size = 3, padding = 1)\n",
        "    \n",
        "    # new layers\n",
        "    self.c3 = nn.Conv2d(64, 128, kernel_size = 3, padding = 1)\n",
        "    self.c4 = nn.Conv2d(128, 128, kernel_size = 3, padding = 1)\n",
        "\n",
        "    # fully connected layers\n",
        "\n",
        "    self.linear_1 = nn.Linear(128*32*32, 1024)\n",
        "\n",
        "    # drop out layer\n",
        "    self.drop = nn.Dropout(0.5)\n",
        "    #self.fc1_relu = nn.ReLU()\n",
        "\n",
        "    self.linear_2 = nn.Linear(1024, 10)\n",
        "    self.flat = nn.Flatten()\n",
        "    self.relu = nn.ReLU()\n",
        "    self.softmax = nn.Softmax(dim=1)\n",
        "\n",
        "  def forward(self, x):\n",
        "      x = self.relu(self.c1(x))\n",
        "      x = self.relu(self.c2(x))\n",
        "      x = self.relu(self.c3(x))\n",
        "      x = self.relu(self.c4(x))\n",
        "      x = self.flat(x)\n",
        "      #x = self.fc1_relu(self.fc1(x))\n",
        "      x = self.relu(self.linear_1(x))\n",
        "      x = self.drop(x)\n",
        "      x = self.linear_2(x)\n",
        "      x = self.softmax(x)\n",
        "      return x\n",
        "\n",
        "# keeping paramters the same\n",
        "learning_rate = 0.01\n",
        "epochs = 10\n",
        "\n",
        "# create instance of model\n",
        "model_step_6 = Model_6()\n",
        "\n",
        "model_step_6.to(device)\n",
        "  \n",
        "criterion = nn.CrossEntropyLoss()\n",
        "optimizer = torch.optim.SGD(model_step_6.parameters(), lr=learning_rate, momentum=0.9)\n",
        "\n",
        "train_model(model_step_6)\n",
        "\n",
        "###### Your codes end here.######"
      ]
    },
    {
      "cell_type": "code",
      "execution_count": 25,
      "metadata": {
        "id": "ldf0M6JHnryK",
        "colab": {
          "base_uri": "https://localhost:8080/"
        },
        "outputId": "ccd4f185-55e9-43f1-a5a4-1cae121aea13"
      },
      "outputs": [
        {
          "output_type": "stream",
          "name": "stdout",
          "text": [
            "\n",
            "Test set: Average loss: 2.1548, Accuracy: 3132/10000 (31%)\n",
            "\n"
          ]
        }
      ],
      "source": [
        "# Evaluation\n",
        "evaluate_model(model_step_6, testloader, is_test=True)"
      ]
    },
    {
      "cell_type": "markdown",
      "metadata": {
        "id": "NLm_Vh-1KITW"
      },
      "source": [
        "#### Step-7: Activation function\n",
        "\n",
        "Try another activation function, such as elu, P-ReLU. (5 scores)"
      ]
    },
    {
      "cell_type": "code",
      "execution_count": 26,
      "metadata": {
        "id": "QKGOjvceKITW",
        "colab": {
          "base_uri": "https://localhost:8080/"
        },
        "outputId": "26bd4c81-7b76-4f80-8c03-3bf6e9fa6b35"
      },
      "outputs": [
        {
          "output_type": "stream",
          "name": "stdout",
          "text": [
            "\n",
            "Validation set: Average loss: 2.2980, Accuracy: 488/5000 (10%)\n",
            "\n",
            "\n",
            "Validation set: Average loss: 2.2742, Accuracy: 737/5000 (15%)\n",
            "\n",
            "\n",
            "Validation set: Average loss: 2.2008, Accuracy: 1257/5000 (25%)\n",
            "\n",
            "\n",
            "Validation set: Average loss: 2.1612, Accuracy: 1527/5000 (31%)\n",
            "\n",
            "\n",
            "Validation set: Average loss: 2.1315, Accuracy: 1627/5000 (33%)\n",
            "\n",
            "\n",
            "Validation set: Average loss: 2.1205, Accuracy: 1688/5000 (34%)\n",
            "\n",
            "\n",
            "Validation set: Average loss: 2.1123, Accuracy: 1698/5000 (34%)\n",
            "\n",
            "\n",
            "Validation set: Average loss: 2.1017, Accuracy: 1749/5000 (35%)\n",
            "\n",
            "\n",
            "Validation set: Average loss: 2.0901, Accuracy: 1813/5000 (36%)\n",
            "\n",
            "\n",
            "Validation set: Average loss: 2.0827, Accuracy: 1871/5000 (37%)\n",
            "\n"
          ]
        }
      ],
      "source": [
        "###### Your code starts here. ######\n",
        "\n",
        "class Model_7(nn.Module):\n",
        "  def __init__(self):\n",
        "    super(Model_7, self).__init__()\n",
        "\n",
        "    # first layer\n",
        "    self.c1 = nn.Conv2d(3, 32, kernel_size = 3, padding = 1)\n",
        "\n",
        "    #self.relu = nn.ReLU()\n",
        "\n",
        "    # second layer\n",
        "    self.c2 = nn.Conv2d(32, 64, kernel_size = 3, padding = 1)\n",
        "    \n",
        "    # new layers\n",
        "    self.c3 = nn.Conv2d(64, 128, kernel_size = 3, padding = 1)\n",
        "    self.c4 = nn.Conv2d(128, 128, kernel_size = 3, padding = 1)\n",
        "\n",
        "    # fully connected layers\n",
        "\n",
        "    self.linear_1 = nn.Linear(128*32*32, 1024)\n",
        "\n",
        "    # drop out layer\n",
        "    self.drop = nn.Dropout(0.5)\n",
        "    #self.fc1_relu = nn.ReLU()\n",
        "\n",
        "    self.linear_2 = nn.Linear(1024, 10)\n",
        "    self.flat = nn.Flatten()\n",
        "    self.elu = nn.ELU()\n",
        "    self.softmax = nn.Softmax(dim=1)\n",
        "\n",
        "  def forward(self, x):\n",
        "      x = self.elu(self.c1(x))\n",
        "      x = self.elu(self.c2(x))\n",
        "      x = self.elu(self.c3(x))\n",
        "      x = self.elu(self.c4(x))\n",
        "      x = self.flat(x)\n",
        "      #x = self.fc1_relu(self.fc1(x))\n",
        "      x = self.elu(self.linear_1(x))\n",
        "      x = self.drop(x)\n",
        "      x = self.linear_2(x)\n",
        "      x = self.softmax(x)\n",
        "      return x\n",
        "\n",
        "# keeping paramters the same\n",
        "learning_rate = 0.01\n",
        "epochs = 10\n",
        "\n",
        "# create instance of model\n",
        "model_step_7 = Model_7()\n",
        "\n",
        "model_step_7.to(device)\n",
        "  \n",
        "criterion = nn.CrossEntropyLoss()\n",
        "optimizer = torch.optim.SGD(model_step_7.parameters(), lr=learning_rate, momentum=0.9)\n",
        "\n",
        "train_model(model_step_7)\n",
        "\n",
        "\n",
        "###### Your codes end here.######"
      ]
    },
    {
      "cell_type": "code",
      "execution_count": 27,
      "metadata": {
        "id": "SNMyBMv_nsit",
        "colab": {
          "base_uri": "https://localhost:8080/"
        },
        "outputId": "03097bce-e995-47e6-ec46-6d1412644a43"
      },
      "outputs": [
        {
          "output_type": "stream",
          "name": "stdout",
          "text": [
            "\n",
            "Test set: Average loss: 2.0752, Accuracy: 3832/10000 (38%)\n",
            "\n"
          ]
        }
      ],
      "source": [
        "# Evaluation\n",
        "evaluate_model(model_step_7, testloader, is_test=True)"
      ]
    }
  ],
  "metadata": {
    "accelerator": "GPU",
    "colab": {
      "provenance": []
    },
    "gpuClass": "standard",
    "interpreter": {
      "hash": "3afe1e4ce7822ba0e325ee279bb4d100dadd903c2abe2139ffec7391692aa1eb"
    },
    "kernelspec": {
      "display_name": "Python 3.6.13 ('zichao')",
      "language": "python",
      "name": "python3"
    },
    "language_info": {
      "codemirror_mode": {
        "name": "ipython",
        "version": 3
      },
      "file_extension": ".py",
      "mimetype": "text/x-python",
      "name": "python",
      "nbconvert_exporter": "python",
      "pygments_lexer": "ipython3",
      "version": "3.6.13"
    }
  },
  "nbformat": 4,
  "nbformat_minor": 0
}